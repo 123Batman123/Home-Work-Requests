{
 "cells": [
  {
   "cell_type": "markdown",
   "metadata": {},
   "source": [
    "# Задача 1"
   ]
  },
  {
   "cell_type": "code",
   "execution_count": null,
   "metadata": {},
   "outputs": [],
   "source": [
    "import requests\n",
    "import json\n",
    "def max_int_s_h(s_h):\n",
    "    url = \"https://akabab.github.io/superhero-api/api\"\n",
    "    glossary = '/all.json'\n",
    "    resp = requests.get(url + glossary)\n",
    "    r_j = resp.json()\n",
    "    max_int = 0\n",
    "    for i in s_h:\n",
    "        for j in r_j:\n",
    "            if i == j['name']:\n",
    "                int_s_h = j['powerstats']['intelligence']\n",
    "                if int_s_h > max_int:\n",
    "                    max_int = int_s_h\n",
    "                    s_h_name = j[\"name\"]\n",
    "    return f'Самый умный {s_h_name}, его интеллект {max_int}.'\n",
    "    \n",
    "if __name__ == '__main__':\n",
    "    print(max_int_s_h(['Hulk', 'Captain America', 'Thanos']))"
   ]
  },
  {
   "cell_type": "markdown",
   "metadata": {},
   "source": [
    "# Задача 2"
   ]
  },
  {
   "cell_type": "code",
   "execution_count": null,
   "metadata": {},
   "outputs": [],
   "source": [
    "import requests\n",
    "\n",
    "class YaUploader:\n",
    "    def __init__(self, token):\n",
    "        self.token = token\n",
    "\n",
    "    def upload(self, file_path, filename):\n",
    "        headers = {'Content-Type': 'application/json', 'Accept': 'application/json', 'Authorization': f'OAuth {self.token}'}\n",
    "        upload_url = \"https://cloud-api.yandex.net/v1/disk/resources/upload\"\n",
    "        params = {\"path\": file_path, \"overwrite\": \"true\"}\n",
    "        response = requests.get(upload_url, headers=headers, params=params)\n",
    "        r = response.json()\n",
    "        response = requests.put(r['href'], data=open(filename, 'rb'))\n",
    "        response.raise_for_status()\n",
    "        if response.status_code == 201:\n",
    "            print(\"Success\")\n",
    "\n",
    "if __name__ == '__main__':\n",
    "    # Получить путь к загружаемому файлу и токен от пользователя\n",
    "    path_to_file = 'netologi/test.txt'\n",
    "    token = \"\"\n",
    "    uploader = YaUploader(token)\n",
    "    result = uploader.upload(path_to_file, 'test.txt')"
   ]
  },
  {
   "cell_type": "markdown",
   "metadata": {},
   "source": [
    "# Задача 3"
   ]
  },
  {
   "cell_type": "code",
   "execution_count": 6,
   "metadata": {},
   "outputs": [],
   "source": [
    "import requests\n",
    "import json\n",
    "\n",
    "def questions_Python(tag):\n",
    "    url = 'https://api.stackexchange.com/2.3/questions/'\n",
    "    headers = {'Content-Type': 'application/json'}\n",
    "    params_1 = {'tagged': tag, 'order' : 'desc', 'sort' : 'activity',  'site' : 'stackoverflow', 'fromdate' : 1665410400, 'todate' : 1665583200}\n",
    "    resp = requests.get(url, headers=headers,  params = params_1)\n",
    "    r = resp.json()\n",
    "    with open('test_2.json', 'w', encoding = 'utf-8') as f:\n",
    "        json.dump(r, f, ensure_ascii=False, indent=2)\n",
    "\n",
    "if __name__ == '__main__':\n",
    "    questions_Python('python')"
   ]
  }
 ],
 "metadata": {
  "kernelspec": {
   "display_name": "Python 3.10.7 64-bit",
   "language": "python",
   "name": "python3"
  },
  "language_info": {
   "codemirror_mode": {
    "name": "ipython",
    "version": 3
   },
   "file_extension": ".py",
   "mimetype": "text/x-python",
   "name": "python",
   "nbconvert_exporter": "python",
   "pygments_lexer": "ipython3",
   "version": "3.10.7"
  },
  "orig_nbformat": 4,
  "vscode": {
   "interpreter": {
    "hash": "26de051ba29f2982a8de78e945f0abaf191376122a1563185a90213a26c5da77"
   }
  }
 },
 "nbformat": 4,
 "nbformat_minor": 2
}
